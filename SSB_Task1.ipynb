{
 "cells": [
  {
   "cell_type": "code",
   "execution_count": 1,
   "id": "04a7a95b-a1ec-4297-a3ce-c5953010da7d",
   "metadata": {},
   "outputs": [],
   "source": [
    "import pandas as pd"
   ]
  },
  {
   "cell_type": "code",
   "execution_count": 9,
   "id": "378382d1-4e19-453a-9c6c-75f1eb93c7bd",
   "metadata": {},
   "outputs": [],
   "source": [
    "df = pd.read_csv('C:\\\\DATA SETS\\\\events.csv')"
   ]
  },
  {
   "cell_type": "code",
   "execution_count": 11,
   "id": "0f97ce57-869f-4655-99ad-eb031e2714d6",
   "metadata": {},
   "outputs": [
    {
     "data": {
      "text/html": [
       "<div>\n",
       "<style scoped>\n",
       "    .dataframe tbody tr th:only-of-type {\n",
       "        vertical-align: middle;\n",
       "    }\n",
       "\n",
       "    .dataframe tbody tr th {\n",
       "        vertical-align: top;\n",
       "    }\n",
       "\n",
       "    .dataframe thead th {\n",
       "        text-align: right;\n",
       "    }\n",
       "</style>\n",
       "<table border=\"1\" class=\"dataframe\">\n",
       "  <thead>\n",
       "    <tr style=\"text-align: right;\">\n",
       "      <th></th>\n",
       "      <th>event</th>\n",
       "      <th>tag</th>\n",
       "      <th>sport</th>\n",
       "      <th>sport_code</th>\n",
       "      <th>sport_url</th>\n",
       "    </tr>\n",
       "  </thead>\n",
       "  <tbody>\n",
       "    <tr>\n",
       "      <th>0</th>\n",
       "      <td>Men's Individual</td>\n",
       "      <td>archery</td>\n",
       "      <td>Archery</td>\n",
       "      <td>ARC</td>\n",
       "      <td>https://olympics.com/en/paris-2024/sports/archery</td>\n",
       "    </tr>\n",
       "    <tr>\n",
       "      <th>1</th>\n",
       "      <td>Women's Individual</td>\n",
       "      <td>archery</td>\n",
       "      <td>Archery</td>\n",
       "      <td>ARC</td>\n",
       "      <td>https://olympics.com/en/paris-2024/sports/archery</td>\n",
       "    </tr>\n",
       "    <tr>\n",
       "      <th>2</th>\n",
       "      <td>Men's Team</td>\n",
       "      <td>archery</td>\n",
       "      <td>Archery</td>\n",
       "      <td>ARC</td>\n",
       "      <td>https://olympics.com/en/paris-2024/sports/archery</td>\n",
       "    </tr>\n",
       "    <tr>\n",
       "      <th>3</th>\n",
       "      <td>Women's Team</td>\n",
       "      <td>archery</td>\n",
       "      <td>Archery</td>\n",
       "      <td>ARC</td>\n",
       "      <td>https://olympics.com/en/paris-2024/sports/archery</td>\n",
       "    </tr>\n",
       "    <tr>\n",
       "      <th>4</th>\n",
       "      <td>Mixed Team</td>\n",
       "      <td>archery</td>\n",
       "      <td>Archery</td>\n",
       "      <td>ARC</td>\n",
       "      <td>https://olympics.com/en/paris-2024/sports/archery</td>\n",
       "    </tr>\n",
       "  </tbody>\n",
       "</table>\n",
       "</div>"
      ],
      "text/plain": [
       "                event      tag    sport sport_code  \\\n",
       "0    Men's Individual  archery  Archery        ARC   \n",
       "1  Women's Individual  archery  Archery        ARC   \n",
       "2          Men's Team  archery  Archery        ARC   \n",
       "3        Women's Team  archery  Archery        ARC   \n",
       "4          Mixed Team  archery  Archery        ARC   \n",
       "\n",
       "                                           sport_url  \n",
       "0  https://olympics.com/en/paris-2024/sports/archery  \n",
       "1  https://olympics.com/en/paris-2024/sports/archery  \n",
       "2  https://olympics.com/en/paris-2024/sports/archery  \n",
       "3  https://olympics.com/en/paris-2024/sports/archery  \n",
       "4  https://olympics.com/en/paris-2024/sports/archery  "
      ]
     },
     "execution_count": 11,
     "metadata": {},
     "output_type": "execute_result"
    }
   ],
   "source": [
    "df.head()"
   ]
  },
  {
   "cell_type": "code",
   "execution_count": 15,
   "id": "c4ea93a0-8ed7-4935-a837-f9b056ac2b22",
   "metadata": {},
   "outputs": [
    {
     "name": "stdout",
     "output_type": "stream",
     "text": [
      "Index(['event', 'tag', 'sport', 'sport_code', 'sport_url'], dtype='object')\n"
     ]
    }
   ],
   "source": [
    "print(df.columns)"
   ]
  },
  {
   "cell_type": "code",
   "execution_count": 17,
   "id": "125134bf-8670-4aa6-be64-7d5107252ccd",
   "metadata": {},
   "outputs": [
    {
     "data": {
      "text/html": [
       "<div>\n",
       "<style scoped>\n",
       "    .dataframe tbody tr th:only-of-type {\n",
       "        vertical-align: middle;\n",
       "    }\n",
       "\n",
       "    .dataframe tbody tr th {\n",
       "        vertical-align: top;\n",
       "    }\n",
       "\n",
       "    .dataframe thead th {\n",
       "        text-align: right;\n",
       "    }\n",
       "</style>\n",
       "<table border=\"1\" class=\"dataframe\">\n",
       "  <thead>\n",
       "    <tr style=\"text-align: right;\">\n",
       "      <th></th>\n",
       "      <th>event</th>\n",
       "      <th>tag</th>\n",
       "      <th>sport</th>\n",
       "      <th>sport_code</th>\n",
       "      <th>sport_url</th>\n",
       "    </tr>\n",
       "  </thead>\n",
       "  <tbody>\n",
       "    <tr>\n",
       "      <th>74</th>\n",
       "      <td>Men</td>\n",
       "      <td>basketball</td>\n",
       "      <td>Basketball</td>\n",
       "      <td>BKB</td>\n",
       "      <td>https://olympics.com/en/paris-2024/sports/bask...</td>\n",
       "    </tr>\n",
       "    <tr>\n",
       "      <th>75</th>\n",
       "      <td>Women</td>\n",
       "      <td>basketball</td>\n",
       "      <td>Basketball</td>\n",
       "      <td>BKB</td>\n",
       "      <td>https://olympics.com/en/paris-2024/sports/bask...</td>\n",
       "    </tr>\n",
       "  </tbody>\n",
       "</table>\n",
       "</div>"
      ],
      "text/plain": [
       "    event         tag       sport sport_code  \\\n",
       "74    Men  basketball  Basketball        BKB   \n",
       "75  Women  basketball  Basketball        BKB   \n",
       "\n",
       "                                            sport_url  \n",
       "74  https://olympics.com/en/paris-2024/sports/bask...  \n",
       "75  https://olympics.com/en/paris-2024/sports/bask...  "
      ]
     },
     "execution_count": 17,
     "metadata": {},
     "output_type": "execute_result"
    }
   ],
   "source": [
    "filtered_df = df[df['sport'] == 'Basketball']\n",
    "filtered_df"
   ]
  },
  {
   "cell_type": "code",
   "execution_count": 19,
   "id": "83b79737-ebc7-45f1-a8c1-45bef875ca73",
   "metadata": {},
   "outputs": [
    {
     "data": {
      "text/plain": [
       "sport\n",
       "Archery                   5\n",
       "Artistic Gymnastics      14\n",
       "Artistic Swimming         2\n",
       "Athletics                48\n",
       "Badminton                 5\n",
       "Basketball                2\n",
       "Basketball 3x3            2\n",
       "Beach Volleyball          2\n",
       "Boxing                   13\n",
       "Breaking                  2\n",
       "Canoe Slalom              6\n",
       "Canoe Sprint             10\n",
       "Cycling BMX Freestyle     2\n",
       "Cycling BMX Racing        2\n",
       "Cycling Mountain Bike     2\n",
       "Cycling Road              4\n",
       "Cycling Track            12\n",
       "Diving                    8\n",
       "Equestrian                6\n",
       "Fencing                  12\n",
       "Football                  2\n",
       "Golf                      2\n",
       "Handball                  2\n",
       "Hockey                    2\n",
       "Judo                     15\n",
       "Marathon Swimming         2\n",
       "Modern Pentathlon         2\n",
       "Rhythmic Gymnastics       2\n",
       "Rowing                   14\n",
       "Rugby Sevens              2\n",
       "Sailing                  10\n",
       "Shooting                 15\n",
       "Skateboarding             4\n",
       "Sport Climbing            4\n",
       "Surfing                   2\n",
       "Swimming                 35\n",
       "Table Tennis              5\n",
       "Taekwondo                 8\n",
       "Tennis                    5\n",
       "Trampoline                2\n",
       "Triathlon                 3\n",
       "Volleyball                2\n",
       "Water Polo                2\n",
       "Weightlifting            10\n",
       "Wrestling                18\n",
       "Name: event, dtype: int64"
      ]
     },
     "execution_count": 19,
     "metadata": {},
     "output_type": "execute_result"
    }
   ],
   "source": [
    "grouped_df = df.groupby('sport')['event'].count()\n",
    "grouped_df"
   ]
  },
  {
   "cell_type": "code",
   "execution_count": 21,
   "id": "cf9328aa-846b-46ef-9bab-ac091b76a987",
   "metadata": {},
   "outputs": [],
   "source": [
    "filtered_df.to_csv('filtered_data.csv', index=False)"
   ]
  },
  {
   "cell_type": "code",
   "execution_count": 23,
   "id": "ad688450-3fe1-4507-a8d9-f21bc9648120",
   "metadata": {},
   "outputs": [],
   "source": [
    "grouped_df.to_csv('grouped_data.csv', index=True)"
   ]
  },
  {
   "cell_type": "code",
   "execution_count": null,
   "id": "52529a85-7f7a-4737-baca-2cf25d592751",
   "metadata": {},
   "outputs": [],
   "source": []
  }
 ],
 "metadata": {
  "kernelspec": {
   "display_name": "Python 3 (ipykernel)",
   "language": "python",
   "name": "python3"
  },
  "language_info": {
   "codemirror_mode": {
    "name": "ipython",
    "version": 3
   },
   "file_extension": ".py",
   "mimetype": "text/x-python",
   "name": "python",
   "nbconvert_exporter": "python",
   "pygments_lexer": "ipython3",
   "version": "3.12.4"
  }
 },
 "nbformat": 4,
 "nbformat_minor": 5
}
